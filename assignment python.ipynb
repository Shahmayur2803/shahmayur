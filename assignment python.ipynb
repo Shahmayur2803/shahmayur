{
 "cells": [
  {
   "cell_type": "markdown",
   "id": "70783e59",
   "metadata": {},
   "source": [
    "#### 1. Write a python program to sum of the first n positive integers."
   ]
  },
  {
   "cell_type": "code",
   "execution_count": 7,
   "id": "41300cbb",
   "metadata": {},
   "outputs": [
    {
     "name": "stdout",
     "output_type": "stream",
     "text": [
      "Input a number: 10\n",
      "55.0\n"
     ]
    }
   ],
   "source": [
    "num = int(input(\"Input a number: \"))\n",
    "sum_num = (num * (num + 1)) / 2\n",
    "print(sum_num)\n"
   ]
  },
  {
   "cell_type": "markdown",
   "id": "58cc87de",
   "metadata": {},
   "source": [
    "\n",
    "### 2. Write a Python program to count occurrences of a substring in a string.\n"
   ]
  },
  {
   "cell_type": "code",
   "execution_count": 14,
   "id": "560afea6",
   "metadata": {},
   "outputs": [
    {
     "name": "stdout",
     "output_type": "stream",
     "text": [
      "hello\n",
      "2\n"
     ]
    }
   ],
   "source": [
    "string = \"hellopython hello\"\n",
    "countsub = string.count(input())\n",
    "print (countsub)"
   ]
  },
  {
   "cell_type": "markdown",
   "id": "d930166b",
   "metadata": {},
   "source": [
    "### 3. Write a Python program to count the occurrences of each word in a given sentence."
   ]
  },
  {
   "cell_type": "code",
   "execution_count": 24,
   "id": "52e4b72d",
   "metadata": {},
   "outputs": [
    {
     "name": "stdout",
     "output_type": "stream",
     "text": [
      "{'python': 1, 'is': 1, 'a': 1, 'good': 1, 'language': 3}\n"
     ]
    }
   ],
   "source": [
    "sent = \"python is a good language language language\"\n",
    "sent1=sent.split()\n",
    "occ={}\n",
    "for i in sent1:\n",
    "    if i not in occ:\n",
    "        occ[i] = 1\n",
    "    else:\n",
    "        occ[i] += 1\n",
    "print (occ)\n",
    "\n"
   ]
  },
  {
   "cell_type": "markdown",
   "id": "6b7bd8f9",
   "metadata": {},
   "source": [
    "# 4. Write a Python program to get a single string from two given strings, separated by a space and swap the first two characters of each string.\n"
   ]
  },
  {
   "cell_type": "code",
   "execution_count": 53,
   "id": "9150f1da",
   "metadata": {},
   "outputs": [],
   "source": [
    "str1 = \"python\"\n",
    "str2 = \"learning\"\n",
    "def sstring (str1,str2):\n",
    "    b=str1[0:2] + str2[2:]\n",
    "    c=str2[0:2] + str1[2:]\n",
    "    print (b + \" \" + c)"
   ]
  },
  {
   "cell_type": "code",
   "execution_count": 55,
   "id": "60bbc4a6",
   "metadata": {},
   "outputs": [
    {
     "name": "stdout",
     "output_type": "stream",
     "text": [
      "boal goat\n"
     ]
    }
   ],
   "source": [
    "sstring(\"boat\",\"goal\")"
   ]
  },
  {
   "cell_type": "markdown",
   "id": "e9493dfe",
   "metadata": {},
   "source": [
    "### 5. Write a Python program to add 'ing' at the end of a given string (length should be at least 3).If the given string already ends with 'ing' then add 'ly' instead If the string length of the given string is less than 3, leave it unchanged\n"
   ]
  },
  {
   "cell_type": "code",
   "execution_count": 184,
   "id": "6af91432",
   "metadata": {},
   "outputs": [
    {
     "name": "stdout",
     "output_type": "stream",
     "text": [
      "nothly\n",
      "the given string is :  nothing\n"
     ]
    }
   ],
   "source": [
    "string=\"nothing\"\n",
    "if \"ing\" in string and len(string)>3:\n",
    "        b=string.replace('ing','ly')\n",
    "        print (b)\n",
    "elif len(string) > 3:\n",
    "    string+=\"ing\"\n",
    "\n",
    "print (\"the given string is : \" ,string)\n"
   ]
  },
  {
   "cell_type": "markdown",
   "id": "8f458130",
   "metadata": {},
   "source": [
    "### 6. Write a Python program to find the first appearance of the substring 'not' and 'poor' from a given string, if 'not' follows the 'poor', replace the whole 'not'...'poor' substring with 'good'.Return the resulting string"
   ]
  },
  {
   "cell_type": "code",
   "execution_count": 187,
   "id": "eb38d056",
   "metadata": {},
   "outputs": [],
   "source": [
    "def appstr (string):\n",
    "    b= string.find('not')\n",
    "    c= string.find('poor')\n",
    "    if True:\n",
    "        results=string.replace(string[b:c+4],'good')\n",
    "    return results"
   ]
  },
  {
   "cell_type": "code",
   "execution_count": 188,
   "id": "c94fa967",
   "metadata": {},
   "outputs": [
    {
     "name": "stdout",
     "output_type": "stream",
     "text": [
      "this thing is good\n"
     ]
    }
   ],
   "source": [
    "string='this thing is not so very poor'\n",
    "b= string.find('not')\n",
    "c= string.find('poor')\n",
    "f=len(string)\n",
    "new=string[b:c+4]\n",
    "results=string.replace(new,'good')\n",
    "print (results)"
   ]
  },
  {
   "cell_type": "code",
   "execution_count": 189,
   "id": "646fb1f2",
   "metadata": {},
   "outputs": [
    {
     "data": {
      "text/plain": [
       "'this thing is good'"
      ]
     },
     "execution_count": 189,
     "metadata": {},
     "output_type": "execute_result"
    }
   ],
   "source": [
    "appstr('this thing is not so poor')\n"
   ]
  },
  {
   "cell_type": "markdown",
   "id": "2c695cbd",
   "metadata": {},
   "source": [
    "### 7.Program to find Greatest Common Divisor of two numbers.For example, the GCD of 20 and 28 is 4 and GCD of 98 and 56 is 14."
   ]
  },
  {
   "cell_type": "code",
   "execution_count": 159,
   "id": "17dfb19f",
   "metadata": {},
   "outputs": [],
   "source": [
    "import math\n",
    "def gcd (a,b):\n",
    "    result = math.gcd(a,b)\n",
    "    print (result)"
   ]
  },
  {
   "cell_type": "code",
   "execution_count": 161,
   "id": "f1fc9d1c",
   "metadata": {},
   "outputs": [
    {
     "name": "stdout",
     "output_type": "stream",
     "text": [
      "14\n"
     ]
    }
   ],
   "source": [
    "gcd (98,56)"
   ]
  },
  {
   "cell_type": "markdown",
   "id": "c54c8f27",
   "metadata": {},
   "source": [
    "### 8. Write a Python program to check whether a list contains a sublist."
   ]
  },
  {
   "cell_type": "code",
   "execution_count": 173,
   "id": "fa23d2e4",
   "metadata": {},
   "outputs": [
    {
     "name": "stdout",
     "output_type": "stream",
     "text": [
      "false\n",
      "false\n",
      "false\n",
      "true\n"
     ]
    }
   ],
   "source": [
    "alist=['a','b','c',[1,2,23]]\n",
    "for val in alist:\n",
    "    if type(val)== list :\n",
    "        print ('true')\n",
    "    \n",
    "    else:\n",
    "        print ('false')"
   ]
  },
  {
   "cell_type": "markdown",
   "id": "d554f098",
   "metadata": {},
   "source": [
    "### 9. Write a Python program to find the second smallest number in a list.\n"
   ]
  },
  {
   "cell_type": "code",
   "execution_count": 181,
   "id": "f47632af",
   "metadata": {},
   "outputs": [
    {
     "name": "stdout",
     "output_type": "stream",
     "text": [
      "2\n"
     ]
    }
   ],
   "source": [
    "number=[100,1,2,3,4,5,6,7,8]\n",
    "b=number.sort()\n",
    "print (number[1])"
   ]
  },
  {
   "cell_type": "markdown",
   "id": "aead2662",
   "metadata": {},
   "source": [
    "### 10. Write a Python program to get unique values from a list."
   ]
  },
  {
   "cell_type": "code",
   "execution_count": 183,
   "id": "28ff43e5",
   "metadata": {},
   "outputs": [
    {
     "name": "stdout",
     "output_type": "stream",
     "text": [
      "{1, 2, 3, 100, 4, 5, 6, 7, 8}\n"
     ]
    }
   ],
   "source": [
    "number=[100,1,2,3,4,4,4,4,4,5,6,7,8]\n",
    "unival = set(number)\n",
    "print (unival)"
   ]
  },
  {
   "cell_type": "markdown",
   "id": "24b296b7",
   "metadata": {},
   "source": [
    "### 11.Write a Python program to unzip a list of tuples into individual lists."
   ]
  },
  {
   "cell_type": "code",
   "execution_count": 199,
   "id": "5f7c971f",
   "metadata": {},
   "outputs": [],
   "source": [
    "alist=[(1,2,3),(4,56),(2,3,4)]\n",
    "def unzipp (a):\n",
    "    for unzip in alist:\n",
    "        print (list(unzip))"
   ]
  },
  {
   "cell_type": "code",
   "execution_count": 200,
   "id": "474aca20",
   "metadata": {},
   "outputs": [
    {
     "name": "stdout",
     "output_type": "stream",
     "text": [
      "[1, 2, 3]\n",
      "[4, 56]\n",
      "[2, 3, 4]\n"
     ]
    }
   ],
   "source": [
    "unzipp (alist)"
   ]
  },
  {
   "cell_type": "markdown",
   "id": "547a9368",
   "metadata": {},
   "source": [
    "### 12. Write a Python program to convert a list of tuples into a dictionary"
   ]
  },
  {
   "cell_type": "code",
   "execution_count": 211,
   "id": "88d0882b",
   "metadata": {},
   "outputs": [],
   "source": [
    "alist=[('mayur',20),('akshay',56),('dharmendra',4)]\n",
    "def conlist(a):\n",
    "    a= dict(a)\n",
    "    return a\n",
    "\n",
    "        \n",
    "    \n",
    "    "
   ]
  },
  {
   "cell_type": "code",
   "execution_count": 212,
   "id": "30f26f7f",
   "metadata": {},
   "outputs": [
    {
     "data": {
      "text/plain": [
       "{'mayur': 20, 'akshay': 56, 'dharmendra': 4}"
      ]
     },
     "execution_count": 212,
     "metadata": {},
     "output_type": "execute_result"
    }
   ],
   "source": [
    "conlist (alist)"
   ]
  },
  {
   "cell_type": "markdown",
   "id": "79694711",
   "metadata": {},
   "source": [
    "### 13. Write a Python program to sort a dictionary (ascending /descending) by value.\n"
   ]
  },
  {
   "cell_type": "code",
   "execution_count": 69,
   "id": "dcc36090",
   "metadata": {},
   "outputs": [],
   "source": [
    "class acsdec():\n",
    "    pass\n",
    "\n",
    "def sortassdic(a):\n",
    "    a = list (a.items())\n",
    "    a =[i[::-1]for i in a]\n",
    "    a.sort()\n",
    "    a =[i[::-1]for i in a]\n",
    "    return a\n",
    "def sortdecdic(a):\n",
    "    a = list (a.items())\n",
    "    a =[i[::-1]for i in a]\n",
    "    a.sort(reverse =True )\n",
    "    a =[i[::-1]for i in a]\n",
    "    return a"
   ]
  },
  {
   "cell_type": "code",
   "execution_count": 216,
   "id": "7493d767",
   "metadata": {},
   "outputs": [
    {
     "data": {
      "text/plain": [
       "[('dharmendra', 4), ('mayur', 20), ('akshay', 56)]"
      ]
     },
     "execution_count": 216,
     "metadata": {},
     "output_type": "execute_result"
    }
   ],
   "source": [
    "a={'mayur': 20, 'akshay': 56, 'dharmendra': 4}\n",
    "sortassdic(a)\n"
   ]
  },
  {
   "cell_type": "code",
   "execution_count": 217,
   "id": "a9f5db0c",
   "metadata": {},
   "outputs": [
    {
     "data": {
      "text/plain": [
       "[('akshay', 56), ('mayur', 20), ('dharmendra', 4)]"
      ]
     },
     "execution_count": 217,
     "metadata": {},
     "output_type": "execute_result"
    }
   ],
   "source": [
    "sortdecdic(a)"
   ]
  },
  {
   "cell_type": "markdown",
   "id": "026d5c32",
   "metadata": {},
   "source": [
    "### 14. Write a Python program to find the highest 3 values in a dictionary."
   ]
  },
  {
   "cell_type": "code",
   "execution_count": 18,
   "id": "a56029a8",
   "metadata": {},
   "outputs": [],
   "source": [
    "a={'mayur': 20, 'akshay': 56, 'dharmendra': 4 ,'june':36}\n",
    "from collections import Counter\n",
    "def high3(a):\n",
    "    b=Counter(a)\n",
    "    high=b.most_common(3)\n",
    "    return high\n",
    "    "
   ]
  },
  {
   "cell_type": "code",
   "execution_count": null,
   "id": "2b39089a",
   "metadata": {},
   "outputs": [],
   "source": []
  },
  {
   "cell_type": "markdown",
   "id": "7fb0dae7",
   "metadata": {},
   "source": [
    "### 15. Given a number n, write a python program to make and print the list of Fibonacci series up to n. Input : n=7Hint : first 7 numbers in the seriesExpected output :First few Fibonacci numbers are 0, 1, 1, 2, 3, 5, 8, 13"
   ]
  },
  {
   "cell_type": "code",
   "execution_count": 48,
   "id": "fa42801e",
   "metadata": {},
   "outputs": [],
   "source": [
    "def fibonacci (n):\n",
    "    if n <= 0:\n",
    "        return [0]\n",
    "    sequence = [0,1]\n",
    "    while len(sequence) <= n:\n",
    "        next_value = sequence[len(sequence) - 1] + sequence[len(sequence) - 2]\n",
    "        sequence.append(next_value)\n",
    "\n",
    "        print (sequence)\n",
    "    return sequence"
   ]
  },
  {
   "cell_type": "code",
   "execution_count": 49,
   "id": "2193b724",
   "metadata": {},
   "outputs": [
    {
     "name": "stdout",
     "output_type": "stream",
     "text": [
      "[0, 1, 1]\n",
      "[0, 1, 1, 2]\n",
      "[0, 1, 1, 2, 3]\n",
      "[0, 1, 1, 2, 3, 5]\n",
      "[0, 1, 1, 2, 3, 5, 8]\n",
      "[0, 1, 1, 2, 3, 5, 8, 13]\n"
     ]
    },
    {
     "data": {
      "text/plain": [
       "[0, 1, 1, 2, 3, 5, 8, 13]"
      ]
     },
     "execution_count": 49,
     "metadata": {},
     "output_type": "execute_result"
    }
   ],
   "source": [
    "fibonacci(7)"
   ]
  },
  {
   "cell_type": "markdown",
   "id": "5289cc70",
   "metadata": {},
   "source": [
    "### 16. Counting the frequencies in a list using a dictionary in Python. Input : [1, 1, 1, 5, 5, 3, 1, 3, 3, 1,4, 4, 4, 2, 2, 2, 2]Expected output : 1 : 5 , 2 : 4 , 3 : 3 , 4 : 3 , 5 : 2"
   ]
  },
  {
   "cell_type": "code",
   "execution_count": 72,
   "id": "4b1d068d",
   "metadata": {},
   "outputs": [
    {
     "name": "stdout",
     "output_type": "stream",
     "text": [
      "{1: 5, 5: 2, 3: 3, 4: 3, 2: 4}\n"
     ]
    }
   ],
   "source": [
    "list1=[1,1,1,5,5,3,1,3,3,1,4,4,4,2,2,2,2]\n",
    "\n",
    "c={}\n",
    "for a in list1:\n",
    "       c[a]=c.get(a,0)+1\n",
    "          \n",
    "print(c)"
   ]
  },
  {
   "cell_type": "markdown",
   "id": "46a3fa3e",
   "metadata": {},
   "source": [
    "### 18. Python Program to Find Factorial of Number Using Recursion"
   ]
  },
  {
   "cell_type": "code",
   "execution_count": 92,
   "id": "4013348e",
   "metadata": {},
   "outputs": [],
   "source": [
    "def fact(n):\n",
    "    if n == 0 or n==1:\n",
    "        return n\n",
    "    else:\n",
    "        n= n * fact(n-1)\n",
    "    return n"
   ]
  },
  {
   "cell_type": "code",
   "execution_count": 93,
   "id": "d56a0d65",
   "metadata": {},
   "outputs": [
    {
     "data": {
      "text/plain": [
       "24"
      ]
     },
     "execution_count": 93,
     "metadata": {},
     "output_type": "execute_result"
    }
   ],
   "source": [
    "fact(4)"
   ]
  },
  {
   "cell_type": "markdown",
   "id": "2caad309",
   "metadata": {},
   "source": [
    "### 19. Write a Python function that takes a list and returns a new list with unique elements of the first list."
   ]
  },
  {
   "cell_type": "code",
   "execution_count": 1,
   "id": "aa9ab21b",
   "metadata": {},
   "outputs": [],
   "source": [
    "list1=[1,1,1,5,5,3,1,3,3,1,4,4,4,2,2,2,2]\n",
    "def nL (list1):\n",
    "    newlist=[set(list1)]\n",
    "    return newlist\n",
    "    \n",
    "    "
   ]
  },
  {
   "cell_type": "markdown",
   "id": "546ee7eb",
   "metadata": {},
   "source": [
    "### 20. Mini project :Problem Statement : Password GeneratorMake a program to generate a strong password using the input given by the user. To generate a password, randomly take some words from the user input and then include numbers, special characters and capital letters to generate the password. Also, keep a check that password length is more than 8 characters.\n",
    "### Note: Include Exception handling wherever required. Also, make a ‘User’ class and store the details like user id, name and password of each user as a tuple."
   ]
  },
  {
   "cell_type": "code",
   "execution_count": 213,
   "id": "17355161",
   "metadata": {},
   "outputs": [],
   "source": [
    "import math\n",
    "import random\n",
    "import collections\n",
    "import string\n",
    "    \n",
    "\n",
    "\n",
    "class User:\n",
    "    def __init__(self,userid,name,password):\n",
    "        self.userid = userid\n",
    "        self.name = name\n",
    "        self.password=User.strpass()\n",
    "        \n",
    "    @classmethod    \n",
    "    def strpass(password):\n",
    "        password = input (\"please enter some word to generate password\")\n",
    "        number = string.digits\n",
    "        lowercase = string.ascii_lowercase\n",
    "        uppercase = string.ascii_uppercase\n",
    "        specialchar = string.punctuation\n",
    "        randomlowercase = random.choices(lowercase,k=3)\n",
    "        randomuppercase = random.choices(uppercase,k=3)\n",
    "        randomnum = random.choices(number,k=3)\n",
    "        randomsc=random.choices(specialchar, k=3)\n",
    "        randompass=random.choices(password ,k=3)\n",
    "        ranpass=randomlowercase + randomuppercase + randomnum +randomsc +randompass\n",
    "        strongpass=''\n",
    "        for a in ranpass:\n",
    "            strongpass += a\n",
    "        if len(password)< 8 and len(strongpass) < 8:\n",
    "            print ('please enter password again')\n",
    "        else:\n",
    "            strongpassn=strongpass[:12]\n",
    "            password  = strongpassn\n",
    "\n",
    "            print (password)\n"
   ]
  },
  {
   "cell_type": "code",
   "execution_count": 214,
   "id": "6ff788eb",
   "metadata": {},
   "outputs": [
    {
     "name": "stdout",
     "output_type": "stream",
     "text": [
      "please enter some wordpython\n",
      "zvkFLL152,!;\n"
     ]
    }
   ],
   "source": [
    "u1=User(12,'mayur','pyton')"
   ]
  },
  {
   "cell_type": "code",
   "execution_count": 220,
   "id": "db175ce3",
   "metadata": {},
   "outputs": [
    {
     "ename": "TypeError",
     "evalue": "'User' object is not iterable",
     "output_type": "error",
     "traceback": [
      "\u001b[0;31m---------------------------------------------------------------------------\u001b[0m",
      "\u001b[0;31mTypeError\u001b[0m                                 Traceback (most recent call last)",
      "\u001b[0;32m/var/folders/j3/tjjk2zdx75jc6z3szg0_l_800000gn/T/ipykernel_54496/3828220760.py\u001b[0m in \u001b[0;36m<module>\u001b[0;34m\u001b[0m\n\u001b[0;32m----> 1\u001b[0;31m \u001b[0mlist\u001b[0m\u001b[0;34m(\u001b[0m\u001b[0mu1\u001b[0m\u001b[0;34m)\u001b[0m\u001b[0;34m\u001b[0m\u001b[0;34m\u001b[0m\u001b[0m\n\u001b[0m",
      "\u001b[0;31mTypeError\u001b[0m: 'User' object is not iterable"
     ]
    }
   ],
   "source": []
  },
  {
   "cell_type": "code",
   "execution_count": null,
   "id": "56f19adb",
   "metadata": {},
   "outputs": [],
   "source": []
  },
  {
   "cell_type": "code",
   "execution_count": null,
   "id": "6e6ebae2",
   "metadata": {},
   "outputs": [],
   "source": [
    "\n"
   ]
  },
  {
   "cell_type": "code",
   "execution_count": null,
   "id": "68c0a3bc",
   "metadata": {},
   "outputs": [],
   "source": []
  },
  {
   "cell_type": "code",
   "execution_count": 192,
   "id": "e41c3446",
   "metadata": {},
   "outputs": [],
   "source": [
    "\n",
    "\n"
   ]
  },
  {
   "cell_type": "code",
   "execution_count": 193,
   "id": "a4892220",
   "metadata": {},
   "outputs": [
    {
     "name": "stdout",
     "output_type": "stream",
     "text": [
      "please enter some wordasdksad\n"
     ]
    },
    {
     "data": {
      "text/plain": [
       "'uluECV272_*\\\\'"
      ]
     },
     "execution_count": 193,
     "metadata": {},
     "output_type": "execute_result"
    }
   ],
   "source": [
    "strpass()"
   ]
  },
  {
   "cell_type": "code",
   "execution_count": null,
   "id": "eb8cb5b6",
   "metadata": {},
   "outputs": [],
   "source": []
  },
  {
   "cell_type": "code",
   "execution_count": null,
   "id": "68267110",
   "metadata": {},
   "outputs": [],
   "source": []
  },
  {
   "cell_type": "code",
   "execution_count": null,
   "id": "c35ab03b",
   "metadata": {},
   "outputs": [],
   "source": []
  },
  {
   "cell_type": "code",
   "execution_count": null,
   "id": "1dff0e2e",
   "metadata": {},
   "outputs": [],
   "source": []
  },
  {
   "cell_type": "code",
   "execution_count": null,
   "id": "51c33a3f",
   "metadata": {},
   "outputs": [],
   "source": []
  },
  {
   "cell_type": "code",
   "execution_count": null,
   "id": "dde5738e",
   "metadata": {},
   "outputs": [],
   "source": []
  },
  {
   "cell_type": "code",
   "execution_count": null,
   "id": "30bdacb0",
   "metadata": {},
   "outputs": [],
   "source": []
  },
  {
   "cell_type": "code",
   "execution_count": null,
   "id": "bdca7de5",
   "metadata": {},
   "outputs": [],
   "source": []
  },
  {
   "cell_type": "code",
   "execution_count": null,
   "id": "ccbd9f8f",
   "metadata": {},
   "outputs": [],
   "source": []
  },
  {
   "cell_type": "code",
   "execution_count": 219,
   "id": "11ef528f",
   "metadata": {},
   "outputs": [],
   "source": [
    "import random"
   ]
  },
  {
   "cell_type": "code",
   "execution_count": 223,
   "id": "f8b8347d",
   "metadata": {},
   "outputs": [
    {
     "ename": "TypeError",
     "evalue": "'str' object does not support item assignment",
     "output_type": "error",
     "traceback": [
      "\u001b[0;31m---------------------------------------------------------------------------\u001b[0m",
      "\u001b[0;31mTypeError\u001b[0m                                 Traceback (most recent call last)",
      "\u001b[0;32m/var/folders/j3/tjjk2zdx75jc6z3szg0_l_800000gn/T/ipykernel_46953/4150098025.py\u001b[0m in \u001b[0;36m<module>\u001b[0;34m\u001b[0m\n\u001b[0;32m----> 1\u001b[0;31m \u001b[0mrandom\u001b[0m\u001b[0;34m.\u001b[0m\u001b[0mshuffle\u001b[0m\u001b[0;34m(\u001b[0m\u001b[0;34m'asjbdjhsjd'\u001b[0m\u001b[0;34m)\u001b[0m\u001b[0;34m\u001b[0m\u001b[0;34m\u001b[0m\u001b[0m\n\u001b[0m",
      "\u001b[0;32m~/opt/anaconda3/lib/python3.9/random.py\u001b[0m in \u001b[0;36mshuffle\u001b[0;34m(self, x, random)\u001b[0m\n\u001b[1;32m    360\u001b[0m                 \u001b[0;31m# pick an element in x[:i+1] with which to exchange x[i]\u001b[0m\u001b[0;34m\u001b[0m\u001b[0;34m\u001b[0m\u001b[0m\n\u001b[1;32m    361\u001b[0m                 \u001b[0mj\u001b[0m \u001b[0;34m=\u001b[0m \u001b[0mrandbelow\u001b[0m\u001b[0;34m(\u001b[0m\u001b[0mi\u001b[0m \u001b[0;34m+\u001b[0m \u001b[0;36m1\u001b[0m\u001b[0;34m)\u001b[0m\u001b[0;34m\u001b[0m\u001b[0;34m\u001b[0m\u001b[0m\n\u001b[0;32m--> 362\u001b[0;31m                 \u001b[0mx\u001b[0m\u001b[0;34m[\u001b[0m\u001b[0mi\u001b[0m\u001b[0;34m]\u001b[0m\u001b[0;34m,\u001b[0m \u001b[0mx\u001b[0m\u001b[0;34m[\u001b[0m\u001b[0mj\u001b[0m\u001b[0;34m]\u001b[0m \u001b[0;34m=\u001b[0m \u001b[0mx\u001b[0m\u001b[0;34m[\u001b[0m\u001b[0mj\u001b[0m\u001b[0;34m]\u001b[0m\u001b[0;34m,\u001b[0m \u001b[0mx\u001b[0m\u001b[0;34m[\u001b[0m\u001b[0mi\u001b[0m\u001b[0;34m]\u001b[0m\u001b[0;34m\u001b[0m\u001b[0;34m\u001b[0m\u001b[0m\n\u001b[0m\u001b[1;32m    363\u001b[0m         \u001b[0;32melse\u001b[0m\u001b[0;34m:\u001b[0m\u001b[0;34m\u001b[0m\u001b[0;34m\u001b[0m\u001b[0m\n\u001b[1;32m    364\u001b[0m             _warn('The *random* parameter to shuffle() has been deprecated\\n'\n",
      "\u001b[0;31mTypeError\u001b[0m: 'str' object does not support item assignment"
     ]
    }
   ],
   "source": [
    "random.('asjbdjhsjd')"
   ]
  },
  {
   "cell_type": "code",
   "execution_count": null,
   "id": "a29ca1be",
   "metadata": {},
   "outputs": [],
   "source": [
    "he"
   ]
  }
 ],
 "metadata": {
  "kernelspec": {
   "display_name": "Python 3 (ipykernel)",
   "language": "python",
   "name": "python3"
  },
  "language_info": {
   "codemirror_mode": {
    "name": "ipython",
    "version": 3
   },
   "file_extension": ".py",
   "mimetype": "text/x-python",
   "name": "python",
   "nbconvert_exporter": "python",
   "pygments_lexer": "ipython3",
   "version": "3.9.13"
  }
 },
 "nbformat": 4,
 "nbformat_minor": 5
}
